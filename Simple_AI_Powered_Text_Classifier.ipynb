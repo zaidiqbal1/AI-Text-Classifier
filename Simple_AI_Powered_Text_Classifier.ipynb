{
  "nbformat": 4,
  "nbformat_minor": 0,
  "metadata": {
    "colab": {
      "provenance": [],
      "gpuType": "T4"
    },
    "kernelspec": {
      "name": "python3",
      "display_name": "Python 3"
    },
    "language_info": {
      "name": "python"
    },
    "accelerator": "GPU"
  },
  "cells": [
    {
      "cell_type": "code",
      "source": [
        "!pip install textblob\n",
        "!python -m textblob.download_corpora\n"
      ],
      "metadata": {
        "colab": {
          "base_uri": "https://localhost:8080/"
        },
        "id": "yoJauK0mqXYB",
        "outputId": "e7ca6efb-c80b-405f-b5ba-320d767ff3d1"
      },
      "execution_count": null,
      "outputs": [
        {
          "output_type": "stream",
          "name": "stdout",
          "text": [
            "Requirement already satisfied: textblob in /usr/local/lib/python3.11/dist-packages (0.19.0)\n",
            "Requirement already satisfied: nltk>=3.9 in /usr/local/lib/python3.11/dist-packages (from textblob) (3.9.1)\n",
            "Requirement already satisfied: click in /usr/local/lib/python3.11/dist-packages (from nltk>=3.9->textblob) (8.2.1)\n",
            "Requirement already satisfied: joblib in /usr/local/lib/python3.11/dist-packages (from nltk>=3.9->textblob) (1.5.1)\n",
            "Requirement already satisfied: regex>=2021.8.3 in /usr/local/lib/python3.11/dist-packages (from nltk>=3.9->textblob) (2024.11.6)\n",
            "Requirement already satisfied: tqdm in /usr/local/lib/python3.11/dist-packages (from nltk>=3.9->textblob) (4.67.1)\n",
            "[nltk_data] Downloading package brown to /root/nltk_data...\n",
            "[nltk_data]   Package brown is already up-to-date!\n",
            "[nltk_data] Downloading package punkt_tab to /root/nltk_data...\n",
            "[nltk_data]   Package punkt_tab is already up-to-date!\n",
            "[nltk_data] Downloading package wordnet to /root/nltk_data...\n",
            "[nltk_data]   Package wordnet is already up-to-date!\n",
            "[nltk_data] Downloading package averaged_perceptron_tagger_eng to\n",
            "[nltk_data]     /root/nltk_data...\n",
            "[nltk_data]   Package averaged_perceptron_tagger_eng is already up-to-\n",
            "[nltk_data]       date!\n",
            "[nltk_data] Downloading package conll2000 to /root/nltk_data...\n",
            "[nltk_data]   Package conll2000 is already up-to-date!\n",
            "[nltk_data] Downloading package movie_reviews to /root/nltk_data...\n",
            "[nltk_data]   Package movie_reviews is already up-to-date!\n",
            "Finished.\n"
          ]
        }
      ]
    },
    {
      "cell_type": "code",
      "source": [
        "# Simple Sentiment Classifier using TextBlob\n",
        "\n",
        "from textblob import TextBlob\n",
        "\n",
        "# Optional counters for bonus task\n",
        "positive_count = 0\n",
        "negative_count = 0\n",
        "neutral_count = 0\n",
        "\n",
        "# Start loop\n",
        "print(\"Type 'exit' to quit the program.\\n\")\n",
        "\n",
        "while True:\n",
        "    user_input = input(\"Enter a sentence: \")\n",
        "\n",
        "    if user_input.lower() == 'exit':\n",
        "        break\n",
        "\n",
        "    # Create TextBlob object\n",
        "    blob = TextBlob(user_input)\n",
        "\n",
        "    # Get sentiment polarity (-1 to 1)\n",
        "    polarity = blob.sentiment.polarity\n",
        "\n",
        "    # Classify based on polarity score\n",
        "    if polarity > 0.1:\n",
        "        sentiment = \"Positive\"\n",
        "        positive_count += 1\n",
        "    elif polarity < -0.1:\n",
        "        sentiment = \"Negative\"\n",
        "        negative_count += 1\n",
        "    else:\n",
        "        sentiment = \"Neutral\"\n",
        "        neutral_count += 1\n",
        "\n",
        "    print(f\"Sentiment: {sentiment}\\n\")\n",
        "\n",
        "    # Optional: Save to file\n",
        "    with open(\"classified_results.txt\", \"a\") as f:\n",
        "        f.write(f\"Input: {user_input} | Sentiment: {sentiment}\\n\")\n",
        "\n",
        "# Final stats\n",
        "print(\"\\n--- Session Summary ---\")\n",
        "print(f\"Positive: {positive_count}\")\n",
        "print(f\"Negative: {negative_count}\")\n",
        "print(f\"Neutral: {neutral_count}\")\n"
      ],
      "metadata": {
        "colab": {
          "base_uri": "https://localhost:8080/"
        },
        "id": "aiqLoiypqew2",
        "outputId": "2e510e22-0af4-44a8-c08a-29511aae16e9"
      },
      "execution_count": null,
      "outputs": [
        {
          "output_type": "stream",
          "name": "stdout",
          "text": [
            "Type 'exit' to quit the program.\n",
            "\n",
            "Enter a sentence: fuck you\n",
            "Sentiment: Negative\n",
            "\n",
            "Enter a sentence: exit\n",
            "\n",
            "--- Session Summary ---\n",
            "Positive: 0\n",
            "Negative: 1\n",
            "Neutral: 0\n"
          ]
        }
      ]
    }
  ]
}